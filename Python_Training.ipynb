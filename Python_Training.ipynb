{
 "cells": [
  {
   "cell_type": "code",
   "execution_count": 2,
   "metadata": {},
   "outputs": [
    {
     "name": "stdout",
     "output_type": "stream",
     "text": [
      "Maximum number is 22\n"
     ]
    }
   ],
   "source": [
    "#Finding the maximum number\n",
    "\n",
    "a= int(input(\"Enter first age\"))\n",
    "b= int(input(\"Enter second age\"))\n",
    "c= int(input(\"Enter third age\"))\n",
    "\n",
    "maximum_N = a\n",
    "if maximum_N <b:\n",
    "    maximum_N = b\n",
    "if maximum_N < c:\n",
    "    maximum_N=c\n",
    "\n",
    "print(\"Maximum number is\", maximum_N)"
   ]
  },
  {
   "cell_type": "code",
   "execution_count": 4,
   "metadata": {},
   "outputs": [
    {
     "name": "stdout",
     "output_type": "stream",
     "text": [
      "Temperature in fahrenheit is 73.4\n"
     ]
    }
   ],
   "source": [
    "# Temp from Celsius to Fahrenheit\n",
    "\n",
    "temp = float(input())\n",
    "\n",
    "Fahrenheit = (temp*1.8)+32\n",
    "print(\"Temperature in fahrenheit is\", Fahrenheit)"
   ]
  },
  {
   "cell_type": "code",
   "execution_count": 5,
   "metadata": {},
   "outputs": [
    {
     "name": "stdout",
     "output_type": "stream",
     "text": [
      "{('2nd number is', 12), ('1st number is', 33)}\n"
     ]
    }
   ],
   "source": [
    "# SWapping two values\n",
    "a= int(input('Enter the 1st numner'))\n",
    "b = int(input('Enter the 2nd numner'))\n",
    "\n",
    "num = a\n",
    "a= b\n",
    "b = num\n",
    "print({('1st number is',a),('2nd number is',b)})\n",
    "\n",
    "\n"
   ]
  },
  {
   "cell_type": "code",
   "execution_count": 14,
   "metadata": {},
   "outputs": [
    {
     "name": "stdout",
     "output_type": "stream",
     "text": [
      "The sum of the digits is: 6\n"
     ]
    }
   ],
   "source": [
    "# Input a three-digit number from the user\n",
    "num = int(input(\"Enter a three-digit number: \"))\n",
    "\n",
    "# Check if the number is indeed a three-digit number\n",
    "if 100 <= num <= 999:\n",
    "    # Extract the digits\n",
    "    hundreds = num // 100\n",
    "    tens = (num // 10) % 10\n",
    "    units = num % 10\n",
    "    \n",
    "    # Calculate the sum of the digits\n",
    "    digit_sum = hundreds + tens + units\n",
    "    \n",
    "    # Print the result\n",
    "    print(\"The sum of the digits is:\", digit_sum)\n",
    "else:\n",
    "    print(\"Please make sure the input is a three-digit number.\")\n"
   ]
  },
  {
   "cell_type": "code",
   "execution_count": 16,
   "metadata": {},
   "outputs": [
    {
     "name": "stdout",
     "output_type": "stream",
     "text": [
      "even\n"
     ]
    }
   ],
   "source": [
    "# Number is even or odd\n",
    "x = int(input(\"Enter your num\"))\n",
    "if x%2== 0:\n",
    "    print(\"even\")\n",
    "else :\n",
    "    print(\"odd\")"
   ]
  },
  {
   "cell_type": "code",
   "execution_count": 18,
   "metadata": {},
   "outputs": [
    {
     "name": "stdout",
     "output_type": "stream",
     "text": [
      "Leap year\n"
     ]
    }
   ],
   "source": [
    "#Leapyear or not\n",
    "\n",
    "year = int(input(\"Enter ypur year\"))\n",
    "\n",
    "if year % 4 == 0:\n",
    "    print(\"Leap year\")\n",
    "else:\n",
    "    print(\"Not leap year\")"
   ]
  },
  {
   "cell_type": "code",
   "execution_count": null,
   "metadata": {},
   "outputs": [],
   "source": []
  }
 ],
 "metadata": {
  "kernelspec": {
   "display_name": "base",
   "language": "python",
   "name": "python3"
  },
  "language_info": {
   "codemirror_mode": {
    "name": "ipython",
    "version": 3
   },
   "file_extension": ".py",
   "mimetype": "text/x-python",
   "name": "python",
   "nbconvert_exporter": "python",
   "pygments_lexer": "ipython3",
   "version": "3.9.13"
  }
 },
 "nbformat": 4,
 "nbformat_minor": 2
}
